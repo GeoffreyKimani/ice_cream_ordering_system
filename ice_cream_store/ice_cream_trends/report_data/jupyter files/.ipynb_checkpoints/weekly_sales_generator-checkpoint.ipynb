{
 "cells": [
  {
   "cell_type": "code",
   "execution_count": null,
   "metadata": {},
   "outputs": [],
   "source": [
    "\"\"\"Assuming that a store sells a minimum of 10 ice creams and a maximum of 50 ice creams in a day, then we can determine\n",
    " the weekly sales to range from 70 to 350 pieces of ice cream in a week.\"\"\"\n",
    "\n",
    "# let's generate weekly sales for the 52 weeks in an year, we use random values that range from 70 - 350\n",
    "from random import *\n",
    "import xlsxwriter\n",
    "\n",
    "workbook = xlsxwriter.Workbook('/home/jeffkim/Desktop/projects/applications/below_zero_company/ice_cream_store'\n",
    "                               '/ice_cream_trends/report_data/WeeklySales.xlsx')\n",
    "worksheet = workbook.add_worksheet()\n",
    "# start from the first cell\n",
    "row = 0\n",
    "col = 0\n",
    "\n",
    "# weeks in an year\n",
    "weeks = 52\n",
    "\n",
    "\"\"\"produce results for year 2010, in excel it will appear in column 1\"\"\"\n",
    "\n",
    "for n in range(weeks):\n",
    "    weekly_sales = randint(70, 351)\n",
    "    print(n, weekly_sales)\n",
    "    worksheet.write(row, col, weekly_sales)\n",
    "    row += 1\n",
    "\n",
    "\n",
    "\"\"\" produce results for year 2011, in excel it will appear in column 2 \"\"\"\n",
    "\n",
    "row = 0  # reinitialize row to 0\n",
    "for n in range(weeks):\n",
    "    weekly_sales = randint(70, 351)\n",
    "    print(n, weekly_sales)\n",
    "    worksheet.write(row, col + 1, weekly_sales)\n",
    "    row += 1\n",
    "\n",
    "\n",
    "\"\"\"produce results for year 2012, in excel it will appear in column 3\"\"\"\n",
    "\n",
    "row = 0  # reinitialize row to 0\n",
    "for n in range(weeks):\n",
    "    weekly_sales = randint(70, 351)\n",
    "    print(n, weekly_sales)\n",
    "    worksheet.write(row, col + 2, weekly_sales)\n",
    "    row += 1\n",
    "\n",
    "workbook.close()\n"
   ]
  }
 ],
 "metadata": {
  "kernelspec": {
   "display_name": "Python 2",
   "language": "python",
   "name": "python2"
  },
  "language_info": {
   "codemirror_mode": {
    "name": "ipython",
    "version": 2
   },
   "file_extension": ".py",
   "mimetype": "text/x-python",
   "name": "python",
   "nbconvert_exporter": "python",
   "pygments_lexer": "ipython2",
   "version": "2.7.15"
  }
 },
 "nbformat": 4,
 "nbformat_minor": 2
}
