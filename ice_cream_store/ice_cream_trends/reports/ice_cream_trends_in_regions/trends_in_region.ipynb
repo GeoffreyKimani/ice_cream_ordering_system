{
 "cells": [
  {
   "cell_type": "code",
   "execution_count": null,
   "metadata": {},
   "outputs": [],
   "source": [
    "from flask import Blueprint, make_response\n",
    "from matplotlib.backends.backend_agg import FigureCanvasAgg as FigureCanvas\n",
    "from matplotlib.figure import Figure\n",
    "from io import BytesIO\n",
    "import numpy as np\n",
    "\n",
    "trends_in_regions_bp = Blueprint('trends_in_regions_bp', __name__,\n",
    "                                 static_folder='static', template_folder='templates')\n",
    "\n",
    "\n",
    "@trends_in_regions_bp.route('/ice_cream_trends_in_regions')\n",
    "def trends_in_regions():\n",
    "    # the data used here is generated from the region sales generator,\n",
    "    # it may vary with every run of the script generating this data\n",
    "\n",
    "    region_number = ['ONE', 'TWO', 'THREE', 'FOUR', 'FIVE']\n",
    "    region_sales = [47673, 56560, 56503, 51680, 52543]\n",
    "\n",
    "    fig = Figure()\n",
    "    ax = fig.add_subplot(111)\n",
    "\n",
    "    ax.set_title('ICE CREAM TRENDS IN FIVE REGIONS IN YEAR 2010')\n",
    "    ax.set_xlabel('REGION NUMBER')\n",
    "    ax.set_ylabel('NUMBER OF ICE CREAMS SOLD')\n",
    "\n",
    "    x_pos = np.arange(len(region_number))\n",
    "    ax.set_xticks(x_pos)\n",
    "    ax.set_xticklabels(region_number)\n",
    "\n",
    "    # function to put labels on each of the graphs\n",
    "    def autolabel(rects):\n",
    "        for rect in rects:\n",
    "            height = rect.get_height()\n",
    "            ax.text(rect.get_x() + rect.get_width() / 2., 1.0 * height,\n",
    "                    '%d' % int(height), ha='center', va='bottom')\n",
    "\n",
    "    autolabel(ax.bar(x_pos, region_sales))\n",
    "    ax.legend()\n",
    "\n",
    "    # render image to web page\n",
    "    canvas = FigureCanvas(fig)\n",
    "    png_output = BytesIO()\n",
    "    canvas.print_png(png_output)\n",
    "    response = make_response(png_output.getvalue())\n",
    "    response.headers['Content-Type'] = 'image/png'\n",
    "    return response\n",
    "\n",
    "\n",
    "\n"
   ]
  }
 ],
 "metadata": {
  "kernelspec": {
   "display_name": "Python 2",
   "language": "python",
   "name": "python2"
  },
  "language_info": {
   "codemirror_mode": {
    "name": "ipython",
    "version": 2
   },
   "file_extension": ".py",
   "mimetype": "text/x-python",
   "name": "python",
   "nbconvert_exporter": "python",
   "pygments_lexer": "ipython2",
   "version": "2.7.15"
  }
 },
 "nbformat": 4,
 "nbformat_minor": 2
}
