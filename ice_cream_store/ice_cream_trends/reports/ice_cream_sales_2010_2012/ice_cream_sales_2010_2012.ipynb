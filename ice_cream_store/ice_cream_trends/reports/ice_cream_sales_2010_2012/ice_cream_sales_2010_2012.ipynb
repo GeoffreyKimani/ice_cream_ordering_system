{
 "cells": [
  {
   "cell_type": "code",
   "execution_count": null,
   "metadata": {},
   "outputs": [],
   "source": [
    "from flask import Blueprint, make_response\n",
    "from matplotlib.backends.backend_agg import FigureCanvasAgg as FigureCanvas\n",
    "from matplotlib.figure import Figure\n",
    "from io import BytesIO\n",
    "import numpy as np\n",
    "\n",
    "ice_cream_sales_bp = Blueprint('ice_cream_sales_bp', __name__,\n",
    "                               static_folder='static', template_folder='templates')\n",
    "\n",
    "\n",
    "@ice_cream_sales_bp.route('/ice-cream-sales-2010-2012')\n",
    "def ice_cream_sales():\n",
    "    # the data used here is generated from the weekly sales generator,\n",
    "    # it may vary with every run of the script generating this data\n",
    "\n",
    "    years = ['2010', '2011', '2012']\n",
    "    year_sales = [10981, 10533, 12031]\n",
    "\n",
    "    fig = Figure()\n",
    "    ax = fig.add_subplot(111)\n",
    "\n",
    "    ax.set_title('ICE CREAM SALES FOR YEAR 2010 - 2012')\n",
    "    ax.set_xlabel('YEAR')\n",
    "    ax.set_ylabel('NUMBER OF ICE CREAMS SOLD')\n",
    "\n",
    "    x_pos = np.arange(len(years))\n",
    "    ax.set_xticks(x_pos)\n",
    "    ax.set_xticklabels(years)\n",
    "\n",
    "    # function to put labels on each of the graphs\n",
    "    def autolabel(rects):\n",
    "        for rect in rects:\n",
    "            height = rect.get_height()\n",
    "            ax.text(rect.get_x() + rect.get_width() / 2., 1.0 * height,\n",
    "                    '%d' % int(height), ha='center', va='bottom')\n",
    "\n",
    "    autolabel(ax.bar(x_pos, year_sales, label='ICE CREAM SALES FOR ONE STORE'))\n",
    "    ax.legend()\n",
    "\n",
    "    # render image to web page\n",
    "    canvas = FigureCanvas(fig)\n",
    "    png_output = BytesIO()\n",
    "    canvas.print_png(png_output)\n",
    "    response = make_response(png_output.getvalue())\n",
    "    response.headers['Content-Type'] = 'image/png'\n",
    "    return response\n"
   ]
  }
 ],
 "metadata": {
  "kernelspec": {
   "display_name": "Python 2",
   "language": "python",
   "name": "python2"
  },
  "language_info": {
   "codemirror_mode": {
    "name": "ipython",
    "version": 2
   },
   "file_extension": ".py",
   "mimetype": "text/x-python",
   "name": "python",
   "nbconvert_exporter": "python",
   "pygments_lexer": "ipython2",
   "version": "2.7.15"
  }
 },
 "nbformat": 4,
 "nbformat_minor": 2
}
