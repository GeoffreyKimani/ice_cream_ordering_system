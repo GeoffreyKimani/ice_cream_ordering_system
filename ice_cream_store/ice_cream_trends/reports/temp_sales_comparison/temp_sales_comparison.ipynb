{
 "cells": [
  {
   "cell_type": "code",
   "execution_count": null,
   "metadata": {},
   "outputs": [],
   "source": [
    "\"\"\"here we will compare how temperature affects the sale of ice cream in a store.\n",
    "    i have divided the temperature into 4 bands;\n",
    "        0 - 15, 16 -23, 24 - 29, 30 - 35.\n",
    "    In each band we will sample 2 sales data\n",
    "\n",
    "    the data used here is from temperature sales generator file.\n",
    "\"\"\"\n",
    "\n",
    "from flask import Blueprint, make_response\n",
    "from matplotlib.backends.backend_agg import FigureCanvasAgg as FigureCanvas\n",
    "from matplotlib.figure import Figure\n",
    "from io import BytesIO\n",
    "import numpy as np\n",
    "\n",
    "\n",
    "temp_sales_comparision_bp = Blueprint('temp_sales_comparision_bp', __name__,\n",
    "                                      static_folder='static', template_folder='templates')\n",
    "\n",
    "\n",
    "@temp_sales_comparision_bp.route('/temp_sales_comparision')\n",
    "def temp_sales_comparision():\n",
    "    temp_range = ['0-7', '8-15', '16-19', '20-23', '24-27', '28-30', '31-33', '34-35']\n",
    "    temp_sales = [2, 10, 17, 20, 34, 40, 63, 68]\n",
    "\n",
    "    fig = Figure()\n",
    "    ax = fig.add_subplot(111)\n",
    "\n",
    "    ax.set_title('ICE CREAM SALES AGAINST TEMPERATURE IN A STORE')\n",
    "    ax.set_xlabel('TEMP RANGE')\n",
    "    ax.set_ylabel('NUMBER OF ICE CREAMS SOLD')\n",
    "\n",
    "    x_pos = np.arange(len(temp_range))\n",
    "    ax.set_xticks(x_pos)\n",
    "    ax.set_xticklabels(temp_range)\n",
    "\n",
    "    # function to put labels on each of the graphs\n",
    "    def autolabel(rects):\n",
    "        for rect in rects:\n",
    "            height = rect.get_height()\n",
    "            ax.text(rect.get_x() + rect.get_width() / 2., 1.0 * height,\n",
    "                    '%d' % int(height), ha='center', va='bottom')\n",
    "\n",
    "    autolabel(ax.bar(x_pos, temp_sales))\n",
    "    ax.legend()\n",
    "\n",
    "    # render image to web page\n",
    "    canvas = FigureCanvas(fig)\n",
    "    png_output = BytesIO()\n",
    "    canvas.print_png(png_output)\n",
    "    response = make_response(png_output.getvalue())\n",
    "    response.headers['Content-Type'] = 'image/png'\n",
    "    return response\n"
   ]
  }
 ],
 "metadata": {
  "kernelspec": {
   "display_name": "Python 2",
   "language": "python",
   "name": "python2"
  },
  "language_info": {
   "codemirror_mode": {
    "name": "ipython",
    "version": 2
   },
   "file_extension": ".py",
   "mimetype": "text/x-python",
   "name": "python",
   "nbconvert_exporter": "python",
   "pygments_lexer": "ipython2",
   "version": "2.7.15"
  }
 },
 "nbformat": 4,
 "nbformat_minor": 2
}
